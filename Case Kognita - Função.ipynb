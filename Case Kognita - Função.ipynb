{
 "cells": [
  {
   "cell_type": "code",
   "execution_count": 39,
   "id": "52003111-3d1b-4aed-82cb-e9b726d5e102",
   "metadata": {},
   "outputs": [],
   "source": [
    "import pandas as pd\n",
    "import numpy as np\n",
    "import matplotlib.pyplot as plt\n",
    "import seaborn as sns\n",
    "from sklearn.model_selection import train_test_split, cross_val_score, KFold\n",
    "from sklearn.preprocessing import StandardScaler\n",
    "from sklearn.linear_model import LogisticRegression\n",
    "from sklearn.ensemble import RandomForestClassifier\n",
    "from sklearn.metrics import f1_score\n",
    "from sklearn.impute import SimpleImputer\n",
    "from imblearn.combine import SMOTEENN\n",
    "import pickle\n",
    "import zipfile"
   ]
  },
  {
   "cell_type": "code",
   "execution_count": 29,
   "id": "77e2bb44-0dda-48c9-892e-bc8dc0e99bba",
   "metadata": {},
   "outputs": [],
   "source": [
    "with zipfile.ZipFile('model.zip', 'r') as zip_ref:\n",
    "    zip_ref.extractall('.')\n",
    "    with open('model.pkl', 'rb') as context:\n",
    "        model = pickle.load(context)"
   ]
  },
  {
   "cell_type": "code",
   "execution_count": 31,
   "id": "adf8e1a9-f98f-428d-90ea-b0cbfb11a7e3",
   "metadata": {},
   "outputs": [],
   "source": [
    "with open('imputer.pkl', 'rb') as context:\n",
    "    imputer = pickle.load(context)"
   ]
  },
  {
   "cell_type": "code",
   "execution_count": 35,
   "id": "24009d1d-63a5-47b2-a82e-8bc94d8ccffa",
   "metadata": {},
   "outputs": [],
   "source": [
    "def previsao_default(input_dict):\n",
    "    input_df = pd.DataFrame([input_dict])\n",
    "    training_col = pd.Index(['default_3months', 'ioi_36months', 'ioi_3months', 'valor_por_vencer',\n",
    "       'valor_vencido', 'valor_quitado', 'quant_protestos', 'valor_protestos',\n",
    "       'quant_acao_judicial', 'dividas_vencidas_valor',\n",
    "       'dividas_vencidas_qtd', 'falencia_concordata_qtd',\n",
    "       'valor_total_pedido', 'month', 'year'])\n",
    "    input_df = input_df.reindex(columns=training_col, fill_value=np.nan)\n",
    "    input_imputed = imputer.transform(input_df)\n",
    "    previsao = model.predict(input_imputed)\n",
    "    return previsao"
   ]
  }
 ],
 "metadata": {
  "kernelspec": {
   "display_name": "Python [conda env:base] *",
   "language": "python",
   "name": "conda-base-py"
  },
  "language_info": {
   "codemirror_mode": {
    "name": "ipython",
    "version": 3
   },
   "file_extension": ".py",
   "mimetype": "text/x-python",
   "name": "python",
   "nbconvert_exporter": "python",
   "pygments_lexer": "ipython3",
   "version": "3.12.7"
  }
 },
 "nbformat": 4,
 "nbformat_minor": 5
}
